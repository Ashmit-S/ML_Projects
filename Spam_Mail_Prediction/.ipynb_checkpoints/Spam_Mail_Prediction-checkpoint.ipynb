{
 "cells": [
  {
   "cell_type": "code",
   "execution_count": 29,
   "id": "55dc9a28",
   "metadata": {},
   "outputs": [],
   "source": [
    "import numpy as np\n",
    "import pandas as pd\n",
    "from sklearn.model_selection import train_test_split\n",
    "from sklearn.feature_extraction.text import TfidfVectorizer\n",
    "from sklearn.linear_model import LogisticRegression\n",
    "from sklearn.metrics import accuracy_score"
   ]
  },
  {
   "cell_type": "code",
   "execution_count": 30,
   "id": "f0426125",
   "metadata": {},
   "outputs": [],
   "source": [
    "mail_data = pd.read_csv('mail_data.csv')"
   ]
  },
  {
   "cell_type": "code",
   "execution_count": 31,
   "id": "fe19184c",
   "metadata": {},
   "outputs": [
    {
     "data": {
      "text/plain": [
       "False    5572\n",
       "Name: Message, dtype: int64"
      ]
     },
     "execution_count": 31,
     "metadata": {},
     "output_type": "execute_result"
    }
   ],
   "source": [
    "#Checking if there is any null values in the Message column\n",
    "number_of_null_values = mail_data.Message.isnull()\n",
    "number_of_null_values.value_counts()"
   ]
  },
  {
   "cell_type": "code",
   "execution_count": 33,
   "id": "3557637c",
   "metadata": {},
   "outputs": [],
   "source": [
    "#Replacing the ham Category to 1 and the spam Category to 0 \n",
    "mail_data.Category.replace('ham',1,inplace=True)\n",
    "mail_data.Category.replace('spam',0,inplace=True)"
   ]
  },
  {
   "cell_type": "code",
   "execution_count": 34,
   "id": "a3ecabe5",
   "metadata": {},
   "outputs": [
    {
     "data": {
      "text/html": [
       "<div>\n",
       "<style scoped>\n",
       "    .dataframe tbody tr th:only-of-type {\n",
       "        vertical-align: middle;\n",
       "    }\n",
       "\n",
       "    .dataframe tbody tr th {\n",
       "        vertical-align: top;\n",
       "    }\n",
       "\n",
       "    .dataframe thead th {\n",
       "        text-align: right;\n",
       "    }\n",
       "</style>\n",
       "<table border=\"1\" class=\"dataframe\">\n",
       "  <thead>\n",
       "    <tr style=\"text-align: right;\">\n",
       "      <th></th>\n",
       "      <th>Category</th>\n",
       "      <th>Message</th>\n",
       "    </tr>\n",
       "  </thead>\n",
       "  <tbody>\n",
       "    <tr>\n",
       "      <th>0</th>\n",
       "      <td>1</td>\n",
       "      <td>Go until jurong point, crazy.. Available only ...</td>\n",
       "    </tr>\n",
       "    <tr>\n",
       "      <th>1</th>\n",
       "      <td>1</td>\n",
       "      <td>Ok lar... Joking wif u oni...</td>\n",
       "    </tr>\n",
       "    <tr>\n",
       "      <th>2</th>\n",
       "      <td>0</td>\n",
       "      <td>Free entry in 2 a wkly comp to win FA Cup fina...</td>\n",
       "    </tr>\n",
       "    <tr>\n",
       "      <th>3</th>\n",
       "      <td>1</td>\n",
       "      <td>U dun say so early hor... U c already then say...</td>\n",
       "    </tr>\n",
       "    <tr>\n",
       "      <th>4</th>\n",
       "      <td>1</td>\n",
       "      <td>Nah I don't think he goes to usf, he lives aro...</td>\n",
       "    </tr>\n",
       "  </tbody>\n",
       "</table>\n",
       "</div>"
      ],
      "text/plain": [
       "   Category                                            Message\n",
       "0         1  Go until jurong point, crazy.. Available only ...\n",
       "1         1                      Ok lar... Joking wif u oni...\n",
       "2         0  Free entry in 2 a wkly comp to win FA Cup fina...\n",
       "3         1  U dun say so early hor... U c already then say...\n",
       "4         1  Nah I don't think he goes to usf, he lives aro..."
      ]
     },
     "execution_count": 34,
     "metadata": {},
     "output_type": "execute_result"
    }
   ],
   "source": [
    "mail_data.head()"
   ]
  },
  {
   "cell_type": "code",
   "execution_count": 43,
   "id": "eb30b271",
   "metadata": {},
   "outputs": [
    {
     "data": {
      "text/plain": [
       "0       1\n",
       "1       1\n",
       "2       0\n",
       "3       1\n",
       "4       1\n",
       "       ..\n",
       "5567    0\n",
       "5568    1\n",
       "5569    1\n",
       "5570    1\n",
       "5571    1\n",
       "Name: Category, Length: 5572, dtype: int32"
      ]
     },
     "execution_count": 43,
     "metadata": {},
     "output_type": "execute_result"
    }
   ],
   "source": [
    "X = mail_data.Message\n",
    "Y = mail_data.Category.astype('int')"
   ]
  },
  {
   "cell_type": "code",
   "execution_count": 44,
   "id": "22a14560",
   "metadata": {},
   "outputs": [],
   "source": [
    "X_train, X_test, Y_train, Y_test = train_test_split(X, Y, test_size=0.2, random_state=2)"
   ]
  },
  {
   "cell_type": "code",
   "execution_count": 45,
   "id": "8edabe11",
   "metadata": {},
   "outputs": [],
   "source": [
    "#Transforming the text data to feature vectors to use as input to our ML model\n",
    "feature_extraction = TfidfVectorizer(min_df = 1, stop_words='english', lowercase=True)\n",
    "X_train_features = feature_extraction.fit_transform(X_train)\n",
    "X_test_features = feature_extraction.transform(X_test)"
   ]
  },
  {
   "cell_type": "code",
   "execution_count": 60,
   "id": "2a494333",
   "metadata": {},
   "outputs": [
    {
     "name": "stdout",
     "output_type": "stream",
     "text": [
      "  (0, 6619)\t0.33077540807715927\n",
      "  (0, 4752)\t0.44421921026428457\n",
      "  (0, 2494)\t0.359541012283057\n",
      "  (0, 2313)\t0.37081499071603014\n",
      "  (0, 2110)\t0.2538341210056606\n",
      "  (0, 1623)\t0.47755798461662824\n",
      "  (0, 1153)\t0.3660464944955722\n",
      "  (1, 4140)\t0.7724156535136\n",
      "  (1, 3802)\t0.40629294786687964\n",
      "  (1, 3352)\t0.4881599110135932\n",
      "  (2, 3179)\t0.3405136304031059\n",
      "  (2, 3169)\t0.9402395798463798\n",
      "  (3, 6670)\t0.4948874540031021\n",
      "  (3, 6543)\t0.5505088255084791\n",
      "  (3, 2900)\t0.6723291165103608\n",
      "  (4, 7417)\t0.4582086641273852\n",
      "  (4, 6613)\t0.6612385994559425\n",
      "  (4, 5583)\t0.3946308162640678\n",
      "  (4, 1764)\t0.443931136059295\n",
      "  (5, 7144)\t0.2525030795568811\n",
      "  (5, 6017)\t0.3435042181615311\n",
      "  (5, 5522)\t0.37192637792006283\n",
      "  (5, 4761)\t0.3253891605505013\n",
      "  (5, 4161)\t0.4423344697815598\n",
      "  (5, 4048)\t0.23654956954038084\n",
      "  :\t:\n",
      "  (1111, 5132)\t0.4888630580390552\n",
      "  (1111, 5071)\t0.3867437918860694\n",
      "  (1111, 4094)\t0.24494882973980492\n",
      "  (1111, 3138)\t0.24402169398619392\n",
      "  (1111, 3084)\t0.24749503861730665\n",
      "  (1111, 1031)\t0.4888630580390552\n",
      "  (1112, 7203)\t0.6546374185867087\n",
      "  (1112, 4471)\t0.7559430204626075\n",
      "  (1113, 7417)\t0.5146241230268624\n",
      "  (1113, 6304)\t0.6835461063738834\n",
      "  (1113, 861)\t0.5176163950841749\n",
      "  (1114, 6855)\t0.15064835569263915\n",
      "  (1114, 5214)\t0.21778432884602225\n",
      "  (1114, 4790)\t0.20816334585240823\n",
      "  (1114, 4718)\t0.23425427376646862\n",
      "  (1114, 4382)\t0.231344342775171\n",
      "  (1114, 4379)\t0.231344342775171\n",
      "  (1114, 4330)\t0.19554545364082745\n",
      "  (1114, 3964)\t0.2606227394501477\n",
      "  (1114, 3928)\t0.2912663505498453\n",
      "  (1114, 3871)\t0.3992082760935345\n",
      "  (1114, 2348)\t0.44776345719647237\n",
      "  (1114, 1556)\t0.24096532576878502\n",
      "  (1114, 1355)\t0.24937006166328782\n",
      "  (1114, 50)\t0.231344342775171\n"
     ]
    }
   ],
   "source": [
    "print(X_test_features)"
   ]
  },
  {
   "cell_type": "code",
   "execution_count": 51,
   "id": "d02604f7",
   "metadata": {},
   "outputs": [
    {
     "data": {
      "text/html": [
       "<style>#sk-container-id-1 {color: black;}#sk-container-id-1 pre{padding: 0;}#sk-container-id-1 div.sk-toggleable {background-color: white;}#sk-container-id-1 label.sk-toggleable__label {cursor: pointer;display: block;width: 100%;margin-bottom: 0;padding: 0.3em;box-sizing: border-box;text-align: center;}#sk-container-id-1 label.sk-toggleable__label-arrow:before {content: \"▸\";float: left;margin-right: 0.25em;color: #696969;}#sk-container-id-1 label.sk-toggleable__label-arrow:hover:before {color: black;}#sk-container-id-1 div.sk-estimator:hover label.sk-toggleable__label-arrow:before {color: black;}#sk-container-id-1 div.sk-toggleable__content {max-height: 0;max-width: 0;overflow: hidden;text-align: left;background-color: #f0f8ff;}#sk-container-id-1 div.sk-toggleable__content pre {margin: 0.2em;color: black;border-radius: 0.25em;background-color: #f0f8ff;}#sk-container-id-1 input.sk-toggleable__control:checked~div.sk-toggleable__content {max-height: 200px;max-width: 100%;overflow: auto;}#sk-container-id-1 input.sk-toggleable__control:checked~label.sk-toggleable__label-arrow:before {content: \"▾\";}#sk-container-id-1 div.sk-estimator input.sk-toggleable__control:checked~label.sk-toggleable__label {background-color: #d4ebff;}#sk-container-id-1 div.sk-label input.sk-toggleable__control:checked~label.sk-toggleable__label {background-color: #d4ebff;}#sk-container-id-1 input.sk-hidden--visually {border: 0;clip: rect(1px 1px 1px 1px);clip: rect(1px, 1px, 1px, 1px);height: 1px;margin: -1px;overflow: hidden;padding: 0;position: absolute;width: 1px;}#sk-container-id-1 div.sk-estimator {font-family: monospace;background-color: #f0f8ff;border: 1px dotted black;border-radius: 0.25em;box-sizing: border-box;margin-bottom: 0.5em;}#sk-container-id-1 div.sk-estimator:hover {background-color: #d4ebff;}#sk-container-id-1 div.sk-parallel-item::after {content: \"\";width: 100%;border-bottom: 1px solid gray;flex-grow: 1;}#sk-container-id-1 div.sk-label:hover label.sk-toggleable__label {background-color: #d4ebff;}#sk-container-id-1 div.sk-serial::before {content: \"\";position: absolute;border-left: 1px solid gray;box-sizing: border-box;top: 0;bottom: 0;left: 50%;z-index: 0;}#sk-container-id-1 div.sk-serial {display: flex;flex-direction: column;align-items: center;background-color: white;padding-right: 0.2em;padding-left: 0.2em;position: relative;}#sk-container-id-1 div.sk-item {position: relative;z-index: 1;}#sk-container-id-1 div.sk-parallel {display: flex;align-items: stretch;justify-content: center;background-color: white;position: relative;}#sk-container-id-1 div.sk-item::before, #sk-container-id-1 div.sk-parallel-item::before {content: \"\";position: absolute;border-left: 1px solid gray;box-sizing: border-box;top: 0;bottom: 0;left: 50%;z-index: -1;}#sk-container-id-1 div.sk-parallel-item {display: flex;flex-direction: column;z-index: 1;position: relative;background-color: white;}#sk-container-id-1 div.sk-parallel-item:first-child::after {align-self: flex-end;width: 50%;}#sk-container-id-1 div.sk-parallel-item:last-child::after {align-self: flex-start;width: 50%;}#sk-container-id-1 div.sk-parallel-item:only-child::after {width: 0;}#sk-container-id-1 div.sk-dashed-wrapped {border: 1px dashed gray;margin: 0 0.4em 0.5em 0.4em;box-sizing: border-box;padding-bottom: 0.4em;background-color: white;}#sk-container-id-1 div.sk-label label {font-family: monospace;font-weight: bold;display: inline-block;line-height: 1.2em;}#sk-container-id-1 div.sk-label-container {text-align: center;}#sk-container-id-1 div.sk-container {/* jupyter's `normalize.less` sets `[hidden] { display: none; }` but bootstrap.min.css set `[hidden] { display: none !important; }` so we also need the `!important` here to be able to override the default hidden behavior on the sphinx rendered scikit-learn.org. See: https://github.com/scikit-learn/scikit-learn/issues/21755 */display: inline-block !important;position: relative;}#sk-container-id-1 div.sk-text-repr-fallback {display: none;}</style><div id=\"sk-container-id-1\" class=\"sk-top-container\"><div class=\"sk-text-repr-fallback\"><pre>LogisticRegression()</pre><b>In a Jupyter environment, please rerun this cell to show the HTML representation or trust the notebook. <br />On GitHub, the HTML representation is unable to render, please try loading this page with nbviewer.org.</b></div><div class=\"sk-container\" hidden><div class=\"sk-item\"><div class=\"sk-estimator sk-toggleable\"><input class=\"sk-toggleable__control sk-hidden--visually\" id=\"sk-estimator-id-1\" type=\"checkbox\" checked><label for=\"sk-estimator-id-1\" class=\"sk-toggleable__label sk-toggleable__label-arrow\">LogisticRegression</label><div class=\"sk-toggleable__content\"><pre>LogisticRegression()</pre></div></div></div></div></div>"
      ],
      "text/plain": [
       "LogisticRegression()"
      ]
     },
     "execution_count": 51,
     "metadata": {},
     "output_type": "execute_result"
    }
   ],
   "source": [
    "#Training the model with the training data\n",
    "model = LogisticRegression()\n",
    "model.fit(X_train_features, Y_train)"
   ]
  },
  {
   "cell_type": "code",
   "execution_count": 56,
   "id": "0747e692",
   "metadata": {},
   "outputs": [
    {
     "data": {
      "text/plain": [
       "0.9683643706529056"
      ]
     },
     "execution_count": 56,
     "metadata": {},
     "output_type": "execute_result"
    }
   ],
   "source": [
    "#Accuracy score for the training data\n",
    "training_data_prediction = model.predict(X_train_features)\n",
    "training_data_prediction_accuracy = accuracy_score(Y_train, training_data_prediction)\n",
    "training_data_prediction_accuracy"
   ]
  },
  {
   "cell_type": "code",
   "execution_count": 58,
   "id": "4ea83c7d",
   "metadata": {},
   "outputs": [
    {
     "data": {
      "text/plain": [
       "0.9524663677130045"
      ]
     },
     "execution_count": 58,
     "metadata": {},
     "output_type": "execute_result"
    }
   ],
   "source": [
    "#Accuracy score for testing data\n",
    "testing_data_prediction = model.predict(X_test_features)\n",
    "testing_data_prediction_accuracy = accuracy_score(Y_test, testing_data_prediction)\n",
    "testing_data_prediction_accuracy"
   ]
  },
  {
   "cell_type": "code",
   "execution_count": 69,
   "id": "35c34302",
   "metadata": {},
   "outputs": [],
   "source": [
    "def spam_or_not():\n",
    "    input_mail = input(\"Enter a mail here: \")\n",
    "    input_mail_features = feature_extraction.transform([input_mail])\n",
    "    input_mail_prediction = model.predict(input_mail_features)\n",
    "    print(\"\\nThe Entered Mail is : \")\n",
    "    if(input_mail_prediction[0]==0):\n",
    "        print(\"Spam Email\")\n",
    "    else:\n",
    "        print(\"Ham Email\")\n",
    "    "
   ]
  },
  {
   "cell_type": "code",
   "execution_count": 70,
   "id": "e0392ff2",
   "metadata": {},
   "outputs": [
    {
     "name": "stdout",
     "output_type": "stream",
     "text": [
      "Enter a mail here: SIX chances to win CASH! From 100 to 20,000 pounds txt> CSH11 and send to 87575. Cost 150p/day, 6days, 16+ TsandCs apply Reply HL 4 info\n",
      "\n",
      "The Entered Mail is : \n",
      "Spam Email\n"
     ]
    }
   ],
   "source": [
    "spam_or_not()"
   ]
  },
  {
   "cell_type": "code",
   "execution_count": null,
   "id": "ea69af89",
   "metadata": {},
   "outputs": [],
   "source": []
  }
 ],
 "metadata": {
  "kernelspec": {
   "display_name": "Python 3 (ipykernel)",
   "language": "python",
   "name": "python3"
  },
  "language_info": {
   "codemirror_mode": {
    "name": "ipython",
    "version": 3
   },
   "file_extension": ".py",
   "mimetype": "text/x-python",
   "name": "python",
   "nbconvert_exporter": "python",
   "pygments_lexer": "ipython3",
   "version": "3.9.7"
  }
 },
 "nbformat": 4,
 "nbformat_minor": 5
}
